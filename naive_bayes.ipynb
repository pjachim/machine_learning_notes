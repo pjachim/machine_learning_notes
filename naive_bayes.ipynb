{
 "cells": [
  {
   "cell_type": "markdown",
   "id": "8af8ae43-d7dc-47c8-9763-2602dbe315f3",
   "metadata": {},
   "source": [
    "# Bayes Theorem"
   ]
  },
  {
   "cell_type": "code",
   "execution_count": 1,
   "id": "32884fe1-dbef-45f8-bf71-c15baa5fe513",
   "metadata": {},
   "outputs": [],
   "source": [
    "import pandas as pd\n",
    "import numpy as np\n",
    "import seaborn as sns"
   ]
  },
  {
   "cell_type": "code",
   "execution_count": 2,
   "id": "60914f10-6897-496a-a75a-5c0581ae6f17",
   "metadata": {},
   "outputs": [
    {
     "data": {
      "text/html": [
       "<div>\n",
       "<style scoped>\n",
       "    .dataframe tbody tr th:only-of-type {\n",
       "        vertical-align: middle;\n",
       "    }\n",
       "\n",
       "    .dataframe tbody tr th {\n",
       "        vertical-align: top;\n",
       "    }\n",
       "\n",
       "    .dataframe thead th {\n",
       "        text-align: right;\n",
       "    }\n",
       "</style>\n",
       "<table border=\"1\" class=\"dataframe\">\n",
       "  <thead>\n",
       "    <tr style=\"text-align: right;\">\n",
       "      <th></th>\n",
       "      <th>survived</th>\n",
       "      <th>pclass</th>\n",
       "      <th>sex</th>\n",
       "      <th>age</th>\n",
       "      <th>sibsp</th>\n",
       "      <th>parch</th>\n",
       "      <th>fare</th>\n",
       "      <th>embarked</th>\n",
       "      <th>class</th>\n",
       "      <th>who</th>\n",
       "      <th>adult_male</th>\n",
       "      <th>deck</th>\n",
       "      <th>embark_town</th>\n",
       "      <th>alive</th>\n",
       "      <th>alone</th>\n",
       "    </tr>\n",
       "  </thead>\n",
       "  <tbody>\n",
       "    <tr>\n",
       "      <th>0</th>\n",
       "      <td>0</td>\n",
       "      <td>3</td>\n",
       "      <td>male</td>\n",
       "      <td>22.0</td>\n",
       "      <td>1</td>\n",
       "      <td>0</td>\n",
       "      <td>7.2500</td>\n",
       "      <td>S</td>\n",
       "      <td>Third</td>\n",
       "      <td>man</td>\n",
       "      <td>True</td>\n",
       "      <td>NaN</td>\n",
       "      <td>Southampton</td>\n",
       "      <td>no</td>\n",
       "      <td>False</td>\n",
       "    </tr>\n",
       "    <tr>\n",
       "      <th>1</th>\n",
       "      <td>1</td>\n",
       "      <td>1</td>\n",
       "      <td>female</td>\n",
       "      <td>38.0</td>\n",
       "      <td>1</td>\n",
       "      <td>0</td>\n",
       "      <td>71.2833</td>\n",
       "      <td>C</td>\n",
       "      <td>First</td>\n",
       "      <td>woman</td>\n",
       "      <td>False</td>\n",
       "      <td>C</td>\n",
       "      <td>Cherbourg</td>\n",
       "      <td>yes</td>\n",
       "      <td>False</td>\n",
       "    </tr>\n",
       "    <tr>\n",
       "      <th>2</th>\n",
       "      <td>1</td>\n",
       "      <td>3</td>\n",
       "      <td>female</td>\n",
       "      <td>26.0</td>\n",
       "      <td>0</td>\n",
       "      <td>0</td>\n",
       "      <td>7.9250</td>\n",
       "      <td>S</td>\n",
       "      <td>Third</td>\n",
       "      <td>woman</td>\n",
       "      <td>False</td>\n",
       "      <td>NaN</td>\n",
       "      <td>Southampton</td>\n",
       "      <td>yes</td>\n",
       "      <td>True</td>\n",
       "    </tr>\n",
       "    <tr>\n",
       "      <th>3</th>\n",
       "      <td>1</td>\n",
       "      <td>1</td>\n",
       "      <td>female</td>\n",
       "      <td>35.0</td>\n",
       "      <td>1</td>\n",
       "      <td>0</td>\n",
       "      <td>53.1000</td>\n",
       "      <td>S</td>\n",
       "      <td>First</td>\n",
       "      <td>woman</td>\n",
       "      <td>False</td>\n",
       "      <td>C</td>\n",
       "      <td>Southampton</td>\n",
       "      <td>yes</td>\n",
       "      <td>False</td>\n",
       "    </tr>\n",
       "    <tr>\n",
       "      <th>4</th>\n",
       "      <td>0</td>\n",
       "      <td>3</td>\n",
       "      <td>male</td>\n",
       "      <td>35.0</td>\n",
       "      <td>0</td>\n",
       "      <td>0</td>\n",
       "      <td>8.0500</td>\n",
       "      <td>S</td>\n",
       "      <td>Third</td>\n",
       "      <td>man</td>\n",
       "      <td>True</td>\n",
       "      <td>NaN</td>\n",
       "      <td>Southampton</td>\n",
       "      <td>no</td>\n",
       "      <td>True</td>\n",
       "    </tr>\n",
       "  </tbody>\n",
       "</table>\n",
       "</div>"
      ],
      "text/plain": [
       "   survived  pclass     sex   age  sibsp  parch     fare embarked  class  \\\n",
       "0         0       3    male  22.0      1      0   7.2500        S  Third   \n",
       "1         1       1  female  38.0      1      0  71.2833        C  First   \n",
       "2         1       3  female  26.0      0      0   7.9250        S  Third   \n",
       "3         1       1  female  35.0      1      0  53.1000        S  First   \n",
       "4         0       3    male  35.0      0      0   8.0500        S  Third   \n",
       "\n",
       "     who  adult_male deck  embark_town alive  alone  \n",
       "0    man        True  NaN  Southampton    no  False  \n",
       "1  woman       False    C    Cherbourg   yes  False  \n",
       "2  woman       False  NaN  Southampton   yes   True  \n",
       "3  woman       False    C  Southampton   yes  False  \n",
       "4    man        True  NaN  Southampton    no   True  "
      ]
     },
     "execution_count": 2,
     "metadata": {},
     "output_type": "execute_result"
    }
   ],
   "source": [
    "df = sns.load_dataset('titanic')\n",
    "df.head()"
   ]
  },
  {
   "cell_type": "code",
   "execution_count": 3,
   "id": "9833e0a9-a7bc-4e9d-92c8-2488c2695b34",
   "metadata": {},
   "outputs": [
    {
     "name": "stdout",
     "output_type": "stream",
     "text": [
      "male      577\n",
      "female    314\n",
      "Name: sex, dtype: int64\n"
     ]
    }
   ],
   "source": [
    "print(df.sex.value_counts())\n",
    "\n",
    "# Making sure there are no N/A values:\n",
    "assert df.sex.isna().value_counts().shape[0] == 1\n",
    "\n",
    "df['passenger_male'] = (df.sex == 'male').astype(int)"
   ]
  },
  {
   "cell_type": "code",
   "execution_count": 4,
   "id": "e0a550ed-e54c-4b1c-bbae-642166c85afe",
   "metadata": {},
   "outputs": [],
   "source": [
    "assert df.alone.isna().value_counts().shape[0] == 1\n",
    "\n",
    "df['alone'] = df.alone.astype(int)"
   ]
  },
  {
   "cell_type": "code",
   "execution_count": 5,
   "id": "9da831a5-ad55-47ac-a6bb-8c23897eac64",
   "metadata": {},
   "outputs": [
    {
     "name": "stdout",
     "output_type": "stream",
     "text": [
      "man      537\n",
      "woman    271\n",
      "child     83\n",
      "Name: who, dtype: int64\n"
     ]
    }
   ],
   "source": [
    "print(df.who.value_counts())\n",
    "\n",
    "df['child'] = (df.who == 'child').astype(int)"
   ]
  },
  {
   "cell_type": "code",
   "execution_count": 6,
   "id": "fae5ad9f-743a-4cbc-a107-7f3f727076d4",
   "metadata": {},
   "outputs": [],
   "source": [
    "df[['Queenstown_departure', 'Southampton_departure']] = pd.get_dummies(df.embark_town, drop_first=True)"
   ]
  },
  {
   "cell_type": "code",
   "execution_count": 7,
   "id": "8c47de94-c99f-470d-969a-1421a96e7c53",
   "metadata": {},
   "outputs": [
    {
     "data": {
      "text/html": [
       "<div>\n",
       "<style scoped>\n",
       "    .dataframe tbody tr th:only-of-type {\n",
       "        vertical-align: middle;\n",
       "    }\n",
       "\n",
       "    .dataframe tbody tr th {\n",
       "        vertical-align: top;\n",
       "    }\n",
       "\n",
       "    .dataframe thead th {\n",
       "        text-align: right;\n",
       "    }\n",
       "</style>\n",
       "<table border=\"1\" class=\"dataframe\">\n",
       "  <thead>\n",
       "    <tr style=\"text-align: right;\">\n",
       "      <th></th>\n",
       "      <th>survived</th>\n",
       "      <th>child</th>\n",
       "      <th>Queenstown_departure</th>\n",
       "      <th>Southampton_departure</th>\n",
       "      <th>passenger_male</th>\n",
       "    </tr>\n",
       "  </thead>\n",
       "  <tbody>\n",
       "    <tr>\n",
       "      <th>0</th>\n",
       "      <td>0</td>\n",
       "      <td>0</td>\n",
       "      <td>0</td>\n",
       "      <td>1</td>\n",
       "      <td>1</td>\n",
       "    </tr>\n",
       "    <tr>\n",
       "      <th>1</th>\n",
       "      <td>1</td>\n",
       "      <td>0</td>\n",
       "      <td>0</td>\n",
       "      <td>0</td>\n",
       "      <td>0</td>\n",
       "    </tr>\n",
       "    <tr>\n",
       "      <th>2</th>\n",
       "      <td>1</td>\n",
       "      <td>0</td>\n",
       "      <td>0</td>\n",
       "      <td>1</td>\n",
       "      <td>0</td>\n",
       "    </tr>\n",
       "    <tr>\n",
       "      <th>3</th>\n",
       "      <td>1</td>\n",
       "      <td>0</td>\n",
       "      <td>0</td>\n",
       "      <td>1</td>\n",
       "      <td>0</td>\n",
       "    </tr>\n",
       "    <tr>\n",
       "      <th>4</th>\n",
       "      <td>0</td>\n",
       "      <td>0</td>\n",
       "      <td>0</td>\n",
       "      <td>1</td>\n",
       "      <td>1</td>\n",
       "    </tr>\n",
       "    <tr>\n",
       "      <th>...</th>\n",
       "      <td>...</td>\n",
       "      <td>...</td>\n",
       "      <td>...</td>\n",
       "      <td>...</td>\n",
       "      <td>...</td>\n",
       "    </tr>\n",
       "    <tr>\n",
       "      <th>886</th>\n",
       "      <td>0</td>\n",
       "      <td>0</td>\n",
       "      <td>0</td>\n",
       "      <td>1</td>\n",
       "      <td>1</td>\n",
       "    </tr>\n",
       "    <tr>\n",
       "      <th>887</th>\n",
       "      <td>1</td>\n",
       "      <td>0</td>\n",
       "      <td>0</td>\n",
       "      <td>1</td>\n",
       "      <td>0</td>\n",
       "    </tr>\n",
       "    <tr>\n",
       "      <th>888</th>\n",
       "      <td>0</td>\n",
       "      <td>0</td>\n",
       "      <td>0</td>\n",
       "      <td>1</td>\n",
       "      <td>0</td>\n",
       "    </tr>\n",
       "    <tr>\n",
       "      <th>889</th>\n",
       "      <td>1</td>\n",
       "      <td>0</td>\n",
       "      <td>0</td>\n",
       "      <td>0</td>\n",
       "      <td>1</td>\n",
       "    </tr>\n",
       "    <tr>\n",
       "      <th>890</th>\n",
       "      <td>0</td>\n",
       "      <td>0</td>\n",
       "      <td>1</td>\n",
       "      <td>0</td>\n",
       "      <td>1</td>\n",
       "    </tr>\n",
       "  </tbody>\n",
       "</table>\n",
       "<p>891 rows × 5 columns</p>\n",
       "</div>"
      ],
      "text/plain": [
       "     survived  child  Queenstown_departure  Southampton_departure  \\\n",
       "0           0      0                     0                      1   \n",
       "1           1      0                     0                      0   \n",
       "2           1      0                     0                      1   \n",
       "3           1      0                     0                      1   \n",
       "4           0      0                     0                      1   \n",
       "..        ...    ...                   ...                    ...   \n",
       "886         0      0                     0                      1   \n",
       "887         1      0                     0                      1   \n",
       "888         0      0                     0                      1   \n",
       "889         1      0                     0                      0   \n",
       "890         0      0                     1                      0   \n",
       "\n",
       "     passenger_male  \n",
       "0                 1  \n",
       "1                 0  \n",
       "2                 0  \n",
       "3                 0  \n",
       "4                 1  \n",
       "..              ...  \n",
       "886               1  \n",
       "887               0  \n",
       "888               0  \n",
       "889               1  \n",
       "890               1  \n",
       "\n",
       "[891 rows x 5 columns]"
      ]
     },
     "execution_count": 7,
     "metadata": {},
     "output_type": "execute_result"
    }
   ],
   "source": [
    "df = df[['survived', 'child', 'Queenstown_departure', 'Southampton_departure', 'passenger_male']]\n",
    "df"
   ]
  },
  {
   "cell_type": "code",
   "execution_count": 8,
   "id": "109b202c-185d-4a27-b1da-8772bbb15788",
   "metadata": {},
   "outputs": [],
   "source": [
    "X = df.drop(columns='survived').to_numpy()\n",
    "y = df.survived.to_numpy()"
   ]
  },
  {
   "cell_type": "markdown",
   "id": "7cd3a6bc-a98d-4540-8125-e889cdad4bdf",
   "metadata": {},
   "source": [
    "### Bayes Theorem\n",
    "\n",
    "Here is Bayes theorem:\n",
    "$$\n",
    "P(H|E)=\\frac{P(E|H)P(H)}{P(E)}\n",
    "$$\n",
    "\n",
    "The $P(H|E)$ represents the probability of a given result based on the evidence $E$. The evidence $E$ typically represents a row of data, and the $H$ is typically the class label, so a 0 or 1, or whatever.\n",
    "\n",
    "$P(E|H)$ represents the probability of the outcome $H$ given the piece of evidence $E$. Because this typically applies to a row of data, in practice, this works more like "
   ]
  },
  {
   "cell_type": "code",
   "execution_count": 9,
   "id": "99bb94ff-6357-44d4-af7b-f3a245ff5f44",
   "metadata": {},
   "outputs": [
    {
     "data": {
      "text/plain": [
       "array([0.14327485, 0.0877193 , 0.63450292, 0.31871345])"
      ]
     },
     "execution_count": 9,
     "metadata": {},
     "output_type": "execute_result"
    }
   ],
   "source": [
    "np.sum(X[y==1,:], axis=0) / X[y==1,:].shape[0]"
   ]
  },
  {
   "cell_type": "code",
   "execution_count": 10,
   "id": "bf2057fe-ae21-4744-879f-4622125eba8a",
   "metadata": {},
   "outputs": [],
   "source": [
    "def standard_naive_bayes(X, y, sample):\n",
    "    sample = np.array(sample).reshape(1,-1)\n",
    "    X_compare = (X == np.matmul(np.ones((X.shape[0],1)), sample)).astype(int)\n",
    "    \n",
    "    numerator_1 = np.product(np.sum(X_compare[y == 1,:], axis=0) / X_compare[y == 1,:].shape[0]) * (np.sum(y == 1) / y.shape[0])\n",
    "    numerator_0 = np.product(np.sum(X_compare[y == 0,:], axis=0) / X_compare[y == 0,:].shape[0]) * (np.sum(y == 0) / y.shape[0])\n",
    "\n",
    "    return numerator_0 / (numerator_1 + numerator_0), numerator_1 / (numerator_1 + numerator_0)"
   ]
  },
  {
   "cell_type": "code",
   "execution_count": 11,
   "id": "d83b67b2-008d-413b-94f6-80bf3bcba878",
   "metadata": {},
   "outputs": [
    {
     "data": {
      "text/plain": [
       "(0.15585100033179958, 0.8441489996682005)"
      ]
     },
     "execution_count": 11,
     "metadata": {},
     "output_type": "execute_result"
    }
   ],
   "source": [
    "standard_naive_bayes(X, y, [1, 0, 1, 0])"
   ]
  },
  {
   "cell_type": "code",
   "execution_count": null,
   "id": "86fbb618-fe79-4c8e-b1fb-8f87eb8a7909",
   "metadata": {},
   "outputs": [],
   "source": []
  },
  {
   "cell_type": "markdown",
   "id": "9c3a7ee6-6067-4ba4-909b-ffeccb468735",
   "metadata": {},
   "source": [
    "Naive Bayes does not work if one of the input variables only appears with one class, since the numerator will always become 0 when that variable appears. This is not great, so to combat this behavior, a weight can be added called a Laplace estimator. \n",
    "\n",
    "Here is what it looks like when combined with the naive bayes formula:\n",
    "$$\n",
    "P(H|E)=\\frac{(\\frac{c}{f} + P(E|H))P(H)}{P(E)(c)}\n",
    "$$\n",
    "\n",
    "Where $c$ is some constant, typically 1, and $f$ is the number of features in the dataset. I am using these letters to represent these variables because I think that they make more sense than using $\\mu$ to represent the constant. \n",
    "\n",
    "This formula above makes sense if you can suspend your sense of reality for a sec and pretend that $P(E|H)$ is a vector like $P(E_1|H) + P(E_2|H) ... P(E_N|H)$, and the scalar result of $\\frac{c}{f}$ is added to each element in that array."
   ]
  },
  {
   "cell_type": "code",
   "execution_count": 32,
   "id": "63d7ffb4-a3a4-4917-b878-37f47964da91",
   "metadata": {},
   "outputs": [],
   "source": [
    "np.random.seed(5)\n",
    "\n",
    "only_y_feature = (y * (np.random.rand(X.shape[0]) < 0.4)).astype(int)\n",
    "X_with_made_up_col = np.concatenate([X, only_y_feature.reshape(-1,1)], axis=1)"
   ]
  },
  {
   "cell_type": "code",
   "execution_count": 33,
   "id": "0595969f-6b0b-4a46-a085-a99ede97fc4c",
   "metadata": {},
   "outputs": [
    {
     "data": {
      "text/plain": [
       "(0.852423298711321, 0.1475767012886789)"
      ]
     },
     "execution_count": 33,
     "metadata": {},
     "output_type": "execute_result"
    }
   ],
   "source": [
    "standard_naive_bayes(X, y, [0, 0, 1, 1])"
   ]
  },
  {
   "cell_type": "code",
   "execution_count": 34,
   "id": "0960e11a-f706-4917-b090-96d5aa7f33e8",
   "metadata": {},
   "outputs": [
    {
     "data": {
      "text/plain": [
       "(0.0, 1.0)"
      ]
     },
     "execution_count": 34,
     "metadata": {},
     "output_type": "execute_result"
    }
   ],
   "source": [
    "standard_naive_bayes(X_with_made_up_col, y, [0, 0, 1, 1, 1])"
   ]
  },
  {
   "cell_type": "code",
   "execution_count": 35,
   "id": "4d63e068-c55c-4db7-b4a4-4cd04699b748",
   "metadata": {},
   "outputs": [],
   "source": [
    "def laplace_naive_bayes(X, y, sample, c=1):\n",
    "    sample = np.array(sample).reshape(1,-1)\n",
    "    X_compare = (X == np.matmul(np.ones((X.shape[0],1)), sample)).astype(int)\n",
    "    f = sample.shape[1]\n",
    "    \n",
    "    numerator_1 = (np.product(c/f + (np.sum(X_compare[y == 1,:], axis=0) / X_compare[y == 1,:].shape[0]))) * (np.sum(y == 1) / y.shape[0])\n",
    "    numerator_0 = (np.product(c/f + (np.sum(X_compare[y == 0,:], axis=0) / X_compare[y == 0,:].shape[0]))) * (np.sum(y == 0) / y.shape[0])\n",
    "\n",
    "    return numerator_0 / (numerator_1 + numerator_0), numerator_1 / ((numerator_1 + numerator_0) * c)"
   ]
  },
  {
   "cell_type": "code",
   "execution_count": 36,
   "id": "07fd3b5e-de7b-4566-8843-97d9e8bb7da7",
   "metadata": {},
   "outputs": [
    {
     "data": {
      "text/plain": [
       "(0.38751561647902244, 0.6124843835209774)"
      ]
     },
     "execution_count": 36,
     "metadata": {},
     "output_type": "execute_result"
    }
   ],
   "source": [
    "laplace_naive_bayes(X, y, [1, 0, 1, 0], 1)"
   ]
  },
  {
   "cell_type": "code",
   "execution_count": 37,
   "id": "aed00f6b-e63e-4b15-97d3-c459a2d73e5a",
   "metadata": {},
   "outputs": [
    {
     "data": {
      "text/plain": [
       "array([[0, 0, 1, 1, 0],\n",
       "       [0, 0, 0, 0, 0],\n",
       "       [0, 0, 1, 0, 1],\n",
       "       ...,\n",
       "       [0, 0, 1, 0, 0],\n",
       "       [0, 0, 0, 1, 0],\n",
       "       [0, 1, 0, 1, 0]])"
      ]
     },
     "execution_count": 37,
     "metadata": {},
     "output_type": "execute_result"
    }
   ],
   "source": [
    "X_with_made_up_col"
   ]
  },
  {
   "cell_type": "code",
   "execution_count": 38,
   "id": "8fec3888-eaec-48f6-8803-9a001932d4be",
   "metadata": {},
   "outputs": [
    {
     "data": {
      "text/plain": [
       "(0.13450624776624698, 0.8654937522337529)"
      ]
     },
     "execution_count": 38,
     "metadata": {},
     "output_type": "execute_result"
    }
   ],
   "source": [
    "laplace_naive_bayes(X_with_made_up_col, y, [0, 1, 0, 0, 1])"
   ]
  },
  {
   "cell_type": "code",
   "execution_count": 39,
   "id": "5ca112d2-385f-4620-9cae-f552d56c613b",
   "metadata": {},
   "outputs": [
    {
     "data": {
      "text/plain": [
       "(0.0, 1.0)"
      ]
     },
     "execution_count": 39,
     "metadata": {},
     "output_type": "execute_result"
    }
   ],
   "source": [
    "standard_naive_bayes(X_with_made_up_col, y, [0, 1, 0, 0, 1])"
   ]
  },
  {
   "cell_type": "code",
   "execution_count": null,
   "id": "259a5a43-e384-43b2-bfcb-f167ad0691f4",
   "metadata": {},
   "outputs": [],
   "source": []
  }
 ],
 "metadata": {
  "kernelspec": {
   "display_name": "mlenv",
   "language": "python",
   "name": "mlenv"
  },
  "language_info": {
   "codemirror_mode": {
    "name": "ipython",
    "version": 3
   },
   "file_extension": ".py",
   "mimetype": "text/x-python",
   "name": "python",
   "nbconvert_exporter": "python",
   "pygments_lexer": "ipython3",
   "version": "3.7.10"
  }
 },
 "nbformat": 4,
 "nbformat_minor": 5
}
