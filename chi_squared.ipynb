{
 "cells": [
  {
   "cell_type": "code",
   "execution_count": 1,
   "id": "eae8acad-4dcc-4be8-ab2b-ef44cf2b7851",
   "metadata": {},
   "outputs": [
    {
     "data": {
      "text/html": [
       "<div>\n",
       "<style scoped>\n",
       "    .dataframe tbody tr th:only-of-type {\n",
       "        vertical-align: middle;\n",
       "    }\n",
       "\n",
       "    .dataframe tbody tr th {\n",
       "        vertical-align: top;\n",
       "    }\n",
       "\n",
       "    .dataframe thead th {\n",
       "        text-align: right;\n",
       "    }\n",
       "</style>\n",
       "<table border=\"1\" class=\"dataframe\">\n",
       "  <thead>\n",
       "    <tr style=\"text-align: right;\">\n",
       "      <th></th>\n",
       "      <th>survived</th>\n",
       "      <th>pclass</th>\n",
       "      <th>sex</th>\n",
       "      <th>age</th>\n",
       "      <th>sibsp</th>\n",
       "      <th>parch</th>\n",
       "      <th>fare</th>\n",
       "      <th>embarked</th>\n",
       "      <th>class</th>\n",
       "      <th>who</th>\n",
       "      <th>adult_male</th>\n",
       "      <th>deck</th>\n",
       "      <th>embark_town</th>\n",
       "      <th>alive</th>\n",
       "      <th>alone</th>\n",
       "    </tr>\n",
       "  </thead>\n",
       "  <tbody>\n",
       "    <tr>\n",
       "      <th>0</th>\n",
       "      <td>0</td>\n",
       "      <td>3</td>\n",
       "      <td>male</td>\n",
       "      <td>22.0</td>\n",
       "      <td>1</td>\n",
       "      <td>0</td>\n",
       "      <td>7.2500</td>\n",
       "      <td>S</td>\n",
       "      <td>Third</td>\n",
       "      <td>man</td>\n",
       "      <td>True</td>\n",
       "      <td>NaN</td>\n",
       "      <td>Southampton</td>\n",
       "      <td>no</td>\n",
       "      <td>False</td>\n",
       "    </tr>\n",
       "    <tr>\n",
       "      <th>1</th>\n",
       "      <td>1</td>\n",
       "      <td>1</td>\n",
       "      <td>female</td>\n",
       "      <td>38.0</td>\n",
       "      <td>1</td>\n",
       "      <td>0</td>\n",
       "      <td>71.2833</td>\n",
       "      <td>C</td>\n",
       "      <td>First</td>\n",
       "      <td>woman</td>\n",
       "      <td>False</td>\n",
       "      <td>C</td>\n",
       "      <td>Cherbourg</td>\n",
       "      <td>yes</td>\n",
       "      <td>False</td>\n",
       "    </tr>\n",
       "    <tr>\n",
       "      <th>2</th>\n",
       "      <td>1</td>\n",
       "      <td>3</td>\n",
       "      <td>female</td>\n",
       "      <td>26.0</td>\n",
       "      <td>0</td>\n",
       "      <td>0</td>\n",
       "      <td>7.9250</td>\n",
       "      <td>S</td>\n",
       "      <td>Third</td>\n",
       "      <td>woman</td>\n",
       "      <td>False</td>\n",
       "      <td>NaN</td>\n",
       "      <td>Southampton</td>\n",
       "      <td>yes</td>\n",
       "      <td>True</td>\n",
       "    </tr>\n",
       "    <tr>\n",
       "      <th>3</th>\n",
       "      <td>1</td>\n",
       "      <td>1</td>\n",
       "      <td>female</td>\n",
       "      <td>35.0</td>\n",
       "      <td>1</td>\n",
       "      <td>0</td>\n",
       "      <td>53.1000</td>\n",
       "      <td>S</td>\n",
       "      <td>First</td>\n",
       "      <td>woman</td>\n",
       "      <td>False</td>\n",
       "      <td>C</td>\n",
       "      <td>Southampton</td>\n",
       "      <td>yes</td>\n",
       "      <td>False</td>\n",
       "    </tr>\n",
       "    <tr>\n",
       "      <th>4</th>\n",
       "      <td>0</td>\n",
       "      <td>3</td>\n",
       "      <td>male</td>\n",
       "      <td>35.0</td>\n",
       "      <td>0</td>\n",
       "      <td>0</td>\n",
       "      <td>8.0500</td>\n",
       "      <td>S</td>\n",
       "      <td>Third</td>\n",
       "      <td>man</td>\n",
       "      <td>True</td>\n",
       "      <td>NaN</td>\n",
       "      <td>Southampton</td>\n",
       "      <td>no</td>\n",
       "      <td>True</td>\n",
       "    </tr>\n",
       "  </tbody>\n",
       "</table>\n",
       "</div>"
      ],
      "text/plain": [
       "   survived  pclass     sex   age  sibsp  parch     fare embarked  class  \\\n",
       "0         0       3    male  22.0      1      0   7.2500        S  Third   \n",
       "1         1       1  female  38.0      1      0  71.2833        C  First   \n",
       "2         1       3  female  26.0      0      0   7.9250        S  Third   \n",
       "3         1       1  female  35.0      1      0  53.1000        S  First   \n",
       "4         0       3    male  35.0      0      0   8.0500        S  Third   \n",
       "\n",
       "     who  adult_male deck  embark_town alive  alone  \n",
       "0    man        True  NaN  Southampton    no  False  \n",
       "1  woman       False    C    Cherbourg   yes  False  \n",
       "2  woman       False  NaN  Southampton   yes   True  \n",
       "3  woman       False    C  Southampton   yes  False  \n",
       "4    man        True  NaN  Southampton    no   True  "
      ]
     },
     "execution_count": 1,
     "metadata": {},
     "output_type": "execute_result"
    }
   ],
   "source": [
    "import pandas as pd\n",
    "import numpy as np\n",
    "import seaborn as sns\n",
    "from scipy.stats import chi2_contingency\n",
    "\n",
    "df = sns.load_dataset('titanic')\n",
    "df.head()"
   ]
  },
  {
   "cell_type": "code",
   "execution_count": 2,
   "id": "8d482749-55bc-4294-92fc-5dbcb6d11926",
   "metadata": {},
   "outputs": [
    {
     "data": {
      "text/html": [
       "<div>\n",
       "<style scoped>\n",
       "    .dataframe tbody tr th:only-of-type {\n",
       "        vertical-align: middle;\n",
       "    }\n",
       "\n",
       "    .dataframe tbody tr th {\n",
       "        vertical-align: top;\n",
       "    }\n",
       "\n",
       "    .dataframe thead th {\n",
       "        text-align: right;\n",
       "    }\n",
       "</style>\n",
       "<table border=\"1\" class=\"dataframe\">\n",
       "  <thead>\n",
       "    <tr style=\"text-align: right;\">\n",
       "      <th>class</th>\n",
       "      <th>First</th>\n",
       "      <th>Second</th>\n",
       "      <th>Third</th>\n",
       "    </tr>\n",
       "    <tr>\n",
       "      <th>embark_town</th>\n",
       "      <th></th>\n",
       "      <th></th>\n",
       "      <th></th>\n",
       "    </tr>\n",
       "  </thead>\n",
       "  <tbody>\n",
       "    <tr>\n",
       "      <th>Cherbourg</th>\n",
       "      <td>85</td>\n",
       "      <td>17</td>\n",
       "      <td>66</td>\n",
       "    </tr>\n",
       "    <tr>\n",
       "      <th>Queenstown</th>\n",
       "      <td>2</td>\n",
       "      <td>3</td>\n",
       "      <td>72</td>\n",
       "    </tr>\n",
       "    <tr>\n",
       "      <th>Southampton</th>\n",
       "      <td>127</td>\n",
       "      <td>164</td>\n",
       "      <td>353</td>\n",
       "    </tr>\n",
       "  </tbody>\n",
       "</table>\n",
       "</div>"
      ],
      "text/plain": [
       "class        First  Second  Third\n",
       "embark_town                      \n",
       "Cherbourg       85      17     66\n",
       "Queenstown       2       3     72\n",
       "Southampton    127     164    353"
      ]
     },
     "execution_count": 2,
     "metadata": {},
     "output_type": "execute_result"
    }
   ],
   "source": [
    "contingency = pd.crosstab(df.embark_town, df['class'])\n",
    "contingency"
   ]
  },
  {
   "cell_type": "code",
   "execution_count": 3,
   "id": "188446b8-4b2d-4f98-9672-d1e98bb5b6b8",
   "metadata": {},
   "outputs": [],
   "source": [
    "contingency = contingency.to_numpy()"
   ]
  },
  {
   "cell_type": "code",
   "execution_count": 4,
   "id": "7812559a-aa2a-4b33-95d2-5386a23a26d7",
   "metadata": {},
   "outputs": [],
   "source": [
    "total_samples = np.sum(contingency)"
   ]
  },
  {
   "cell_type": "markdown",
   "id": "071e8339-484b-4f2a-94c3-512579857f3f",
   "metadata": {},
   "source": [
    "Next I am checking the number of rows in the initial dataset to make sure that they match:"
   ]
  },
  {
   "cell_type": "code",
   "execution_count": 5,
   "id": "93dd4927-1546-4b1f-a79a-05071445dc45",
   "metadata": {},
   "outputs": [
    {
     "data": {
      "text/plain": [
       "891"
      ]
     },
     "execution_count": 5,
     "metadata": {},
     "output_type": "execute_result"
    }
   ],
   "source": [
    "df.shape[0]"
   ]
  },
  {
   "cell_type": "markdown",
   "id": "857cd174-70f3-4cce-b981-fd87b1ad454b",
   "metadata": {},
   "source": [
    "They don't actually match. To check what's going on, I will check how many rows have an N/A for one of the two columns:"
   ]
  },
  {
   "cell_type": "code",
   "execution_count": 6,
   "id": "74d4d307-fd82-4193-8369-3eb1a67aa3f8",
   "metadata": {},
   "outputs": [
    {
     "data": {
      "text/plain": [
       "2"
      ]
     },
     "execution_count": 6,
     "metadata": {},
     "output_type": "execute_result"
    }
   ],
   "source": [
    "df[['embark_town', 'class']].isna().max(axis=1).sum()"
   ]
  },
  {
   "cell_type": "markdown",
   "id": "dbe2cb22-6d32-495a-bab5-931941921a8b",
   "metadata": {},
   "source": [
    "Ok, it looks like 2 rows contained an N/A, so they were excluded from the contingency table. "
   ]
  },
  {
   "cell_type": "markdown",
   "id": "09aaeff6-6eb4-4b3a-aa41-f9fdb675eb9d",
   "metadata": {},
   "source": [
    "## Calculate Degrees of Freedom"
   ]
  },
  {
   "cell_type": "code",
   "execution_count": 7,
   "id": "3a5c849e-50fb-4e90-9cbc-f6a1d4aec976",
   "metadata": {},
   "outputs": [
    {
     "data": {
      "text/plain": [
       "4"
      ]
     },
     "execution_count": 7,
     "metadata": {},
     "output_type": "execute_result"
    }
   ],
   "source": [
    "degrees_of_freedom = (contingency.shape[0] - 1) * (contingency.shape[1] - 1)\n",
    "degrees_of_freedom"
   ]
  },
  {
   "cell_type": "markdown",
   "id": "aa94b968-1a8d-4be5-9188-56779079e8d1",
   "metadata": {},
   "source": [
    "## Calculate Expected Values"
   ]
  },
  {
   "cell_type": "code",
   "execution_count": 8,
   "id": "9d3d60cb-a5d6-4f24-be76-c6fe83aa2c05",
   "metadata": {},
   "outputs": [],
   "source": [
    "col_sum = contingency.sum(axis=0)\n",
    "row_sum = contingency.sum(axis=1)"
   ]
  },
  {
   "cell_type": "markdown",
   "id": "18142382-efbf-4e3d-a0fd-b1600bce2c3d",
   "metadata": {},
   "source": [
    "Next I am calculating the expected values. \n",
    "\n",
    "The expected values are calculated for each row, and are what the values would be if there was no relationship between the two variables. \n",
    "\n",
    "In the cell below, I am using a matrix multiplication of the sum of the rows and the sum of the columns"
   ]
  },
  {
   "cell_type": "code",
   "execution_count": 8,
   "id": "64eefecc-723c-48b7-9f25-83db677bf380",
   "metadata": {},
   "outputs": [
    {
     "data": {
      "text/plain": [
       "array([[ 40.44094488,  34.77165354,  92.78740157],\n",
       "       [ 18.53543307,  15.93700787,  42.52755906],\n",
       "       [155.02362205, 133.29133858, 355.68503937]])"
      ]
     },
     "execution_count": 8,
     "metadata": {},
     "output_type": "execute_result"
    }
   ],
   "source": [
    "expected = np.matmul(row_sum.reshape(-1, 1), col_sum.reshape(1, -1)) / total_samples\n",
    "expected"
   ]
  },
  {
   "cell_type": "code",
   "execution_count": 13,
   "id": "0ee80bd0-fb7c-4085-91d8-7f59834894f3",
   "metadata": {},
   "outputs": [
    {
     "data": {
      "text/plain": [
       "123.75190952951289"
      ]
     },
     "execution_count": 13,
     "metadata": {},
     "output_type": "execute_result"
    }
   ],
   "source": [
    "chi2 = np.sum(((expected - contingency) ** 2) / expected)\n",
    "chi2"
   ]
  },
  {
   "cell_type": "code",
   "execution_count": 11,
   "id": "782806bf-eacd-4eff-a547-55805b983ae3",
   "metadata": {},
   "outputs": [
    {
     "data": {
      "text/plain": [
       "(123.75190952951289,\n",
       " 8.435267819894384e-26,\n",
       " 4,\n",
       " array([[ 40.44094488,  34.77165354,  92.78740157],\n",
       "        [ 18.53543307,  15.93700787,  42.52755906],\n",
       "        [155.02362205, 133.29133858, 355.68503937]]))"
      ]
     },
     "execution_count": 11,
     "metadata": {},
     "output_type": "execute_result"
    }
   ],
   "source": [
    "chi2_scipy, p_scipy, degrees_of_freedom_scipy, expected_scipy = chi2_contingency(contingency)\n",
    "\n",
    "chi2_scipy, p_scipy, degrees_of_freedom_scipy, expected_scipy"
   ]
  },
  {
   "cell_type": "markdown",
   "id": "6db357d6-f0a7-4e87-b5e1-757172d453f0",
   "metadata": {},
   "source": [
    "### Double Check Calculations"
   ]
  },
  {
   "cell_type": "code",
   "execution_count": 12,
   "id": "be39d209-0f72-4da0-adf9-bb8d3c53bd25",
   "metadata": {},
   "outputs": [],
   "source": [
    "assert np.abs(chi2 - chi2_scipy) < 0.0001\n",
    "assert np.abs(degrees_of_freedom - degrees_of_freedom_scipy) < 0.0001\n",
    "assert np.sum(np.abs(expected - expected_scipy)) < 0.0001"
   ]
  }
 ],
 "metadata": {
  "kernelspec": {
   "display_name": "mlenv",
   "language": "python",
   "name": "mlenv"
  },
  "language_info": {
   "codemirror_mode": {
    "name": "ipython",
    "version": 3
   },
   "file_extension": ".py",
   "mimetype": "text/x-python",
   "name": "python",
   "nbconvert_exporter": "python",
   "pygments_lexer": "ipython3",
   "version": "3.7.10"
  }
 },
 "nbformat": 4,
 "nbformat_minor": 5
}
