{
 "cells": [
  {
   "cell_type": "code",
   "execution_count": 20,
   "id": "8b8da665-3c6b-4343-a07e-d1c44719432d",
   "metadata": {},
   "outputs": [],
   "source": [
    "import numpy as np\n",
    "import pandas as pd\n",
    "import statsmodels.api as sm\n",
    "\n",
    "import matplotlib.pyplot as plt\n",
    "import seaborn as sns\n",
    "sns.set(font_scale=1.3)"
   ]
  },
  {
   "cell_type": "markdown",
   "id": "31c429db-889d-44e2-b86d-df65ff8bb47f",
   "metadata": {},
   "source": [
    "Problem: predict sepal length given the other variables."
   ]
  },
  {
   "cell_type": "markdown",
   "id": "dc684bb7-e722-4c7c-bd97-03ede427b89d",
   "metadata": {},
   "source": [
    "# Data Pre-Processing"
   ]
  },
  {
   "cell_type": "code",
   "execution_count": 14,
   "id": "b0e2d8ea-dff2-4d90-b621-22688222e126",
   "metadata": {},
   "outputs": [
    {
     "data": {
      "text/html": [
       "<div>\n",
       "<style scoped>\n",
       "    .dataframe tbody tr th:only-of-type {\n",
       "        vertical-align: middle;\n",
       "    }\n",
       "\n",
       "    .dataframe tbody tr th {\n",
       "        vertical-align: top;\n",
       "    }\n",
       "\n",
       "    .dataframe thead th {\n",
       "        text-align: right;\n",
       "    }\n",
       "</style>\n",
       "<table border=\"1\" class=\"dataframe\">\n",
       "  <thead>\n",
       "    <tr style=\"text-align: right;\">\n",
       "      <th></th>\n",
       "      <th>sepal_length</th>\n",
       "      <th>sepal_width</th>\n",
       "      <th>petal_length</th>\n",
       "      <th>petal_width</th>\n",
       "      <th>species_versicolor</th>\n",
       "      <th>species_virginica</th>\n",
       "    </tr>\n",
       "  </thead>\n",
       "  <tbody>\n",
       "    <tr>\n",
       "      <th>0</th>\n",
       "      <td>5.1</td>\n",
       "      <td>3.5</td>\n",
       "      <td>1.4</td>\n",
       "      <td>0.2</td>\n",
       "      <td>0</td>\n",
       "      <td>0</td>\n",
       "    </tr>\n",
       "    <tr>\n",
       "      <th>1</th>\n",
       "      <td>4.9</td>\n",
       "      <td>3.0</td>\n",
       "      <td>1.4</td>\n",
       "      <td>0.2</td>\n",
       "      <td>0</td>\n",
       "      <td>0</td>\n",
       "    </tr>\n",
       "    <tr>\n",
       "      <th>2</th>\n",
       "      <td>4.7</td>\n",
       "      <td>3.2</td>\n",
       "      <td>1.3</td>\n",
       "      <td>0.2</td>\n",
       "      <td>0</td>\n",
       "      <td>0</td>\n",
       "    </tr>\n",
       "    <tr>\n",
       "      <th>3</th>\n",
       "      <td>4.6</td>\n",
       "      <td>3.1</td>\n",
       "      <td>1.5</td>\n",
       "      <td>0.2</td>\n",
       "      <td>0</td>\n",
       "      <td>0</td>\n",
       "    </tr>\n",
       "    <tr>\n",
       "      <th>4</th>\n",
       "      <td>5.0</td>\n",
       "      <td>3.6</td>\n",
       "      <td>1.4</td>\n",
       "      <td>0.2</td>\n",
       "      <td>0</td>\n",
       "      <td>0</td>\n",
       "    </tr>\n",
       "    <tr>\n",
       "      <th>...</th>\n",
       "      <td>...</td>\n",
       "      <td>...</td>\n",
       "      <td>...</td>\n",
       "      <td>...</td>\n",
       "      <td>...</td>\n",
       "      <td>...</td>\n",
       "    </tr>\n",
       "    <tr>\n",
       "      <th>145</th>\n",
       "      <td>6.7</td>\n",
       "      <td>3.0</td>\n",
       "      <td>5.2</td>\n",
       "      <td>2.3</td>\n",
       "      <td>0</td>\n",
       "      <td>1</td>\n",
       "    </tr>\n",
       "    <tr>\n",
       "      <th>146</th>\n",
       "      <td>6.3</td>\n",
       "      <td>2.5</td>\n",
       "      <td>5.0</td>\n",
       "      <td>1.9</td>\n",
       "      <td>0</td>\n",
       "      <td>1</td>\n",
       "    </tr>\n",
       "    <tr>\n",
       "      <th>147</th>\n",
       "      <td>6.5</td>\n",
       "      <td>3.0</td>\n",
       "      <td>5.2</td>\n",
       "      <td>2.0</td>\n",
       "      <td>0</td>\n",
       "      <td>1</td>\n",
       "    </tr>\n",
       "    <tr>\n",
       "      <th>148</th>\n",
       "      <td>6.2</td>\n",
       "      <td>3.4</td>\n",
       "      <td>5.4</td>\n",
       "      <td>2.3</td>\n",
       "      <td>0</td>\n",
       "      <td>1</td>\n",
       "    </tr>\n",
       "    <tr>\n",
       "      <th>149</th>\n",
       "      <td>5.9</td>\n",
       "      <td>3.0</td>\n",
       "      <td>5.1</td>\n",
       "      <td>1.8</td>\n",
       "      <td>0</td>\n",
       "      <td>1</td>\n",
       "    </tr>\n",
       "  </tbody>\n",
       "</table>\n",
       "<p>150 rows × 6 columns</p>\n",
       "</div>"
      ],
      "text/plain": [
       "     sepal_length  sepal_width  petal_length  petal_width  species_versicolor  \\\n",
       "0             5.1          3.5           1.4          0.2                   0   \n",
       "1             4.9          3.0           1.4          0.2                   0   \n",
       "2             4.7          3.2           1.3          0.2                   0   \n",
       "3             4.6          3.1           1.5          0.2                   0   \n",
       "4             5.0          3.6           1.4          0.2                   0   \n",
       "..            ...          ...           ...          ...                 ...   \n",
       "145           6.7          3.0           5.2          2.3                   0   \n",
       "146           6.3          2.5           5.0          1.9                   0   \n",
       "147           6.5          3.0           5.2          2.0                   0   \n",
       "148           6.2          3.4           5.4          2.3                   0   \n",
       "149           5.9          3.0           5.1          1.8                   0   \n",
       "\n",
       "     species_virginica  \n",
       "0                    0  \n",
       "1                    0  \n",
       "2                    0  \n",
       "3                    0  \n",
       "4                    0  \n",
       "..                 ...  \n",
       "145                  1  \n",
       "146                  1  \n",
       "147                  1  \n",
       "148                  1  \n",
       "149                  1  \n",
       "\n",
       "[150 rows x 6 columns]"
      ]
     },
     "execution_count": 14,
     "metadata": {},
     "output_type": "execute_result"
    }
   ],
   "source": [
    "df = sns.load_dataset('iris')\n",
    "df = pd.get_dummies(df, drop_first=True)\n",
    "# Default value is setosa\n",
    "\n",
    "# Creating X and y matrices for regression:\n",
    "X = df.drop(columns='sepal_length').to_numpy()\n",
    "y = df.sepal_length.to_numpy().reshape(-1,1)\n",
    "\n",
    "df"
   ]
  },
  {
   "cell_type": "markdown",
   "id": "a3faa647-657a-4f83-bfc5-21595f8f081a",
   "metadata": {},
   "source": [
    "# Calculating OLS:"
   ]
  },
  {
   "cell_type": "markdown",
   "id": "ebe3c246-c4a4-454c-99d9-0560ae0e35ac",
   "metadata": {},
   "source": [
    "$$\n",
    "X\\beta=y+\\epsilon\n",
    "$$\n",
    "\n",
    "Ignoring the errors, the function looks like this:\n",
    "\n",
    "$$\n",
    "X\\beta=y\n",
    "$$\n",
    "\n",
    "Multiplying both sides by $X'$ to make the data square, this also creates a covariance matrix:\n",
    "$$\n",
    "X'X\\beta=X'y\n",
    "$$\n",
    "\n",
    "Multiplying both sides by $(X'X)^{-1}$ to cancel $X$ out by creating an identity matrix, then simplifying:\n",
    "$$\n",
    "(X'X)^{-1}X'X\\beta=(X'X)^{-1}X'y \\rightarrow I\\beta=(X'X)^{-1}X'y \\rightarrow \\beta=(X'X)^{-1}X'y\n",
    "$$\n",
    "\n",
    "Ok, all set."
   ]
  },
  {
   "cell_type": "code",
   "execution_count": 21,
   "id": "10ccc618-4907-44f3-a2e7-f32872dd0579",
   "metadata": {},
   "outputs": [],
   "source": [
    "b = np.matmul(np.matmul(np.linalg.inv(np.matmul(X.T, X)), X.T), y)\n",
    "b"
   ]
  },
  {
   "cell_type": "code",
   "execution_count": 31,
   "id": "699d3864-b038-46c3-98da-239b81d9bdf4",
   "metadata": {},
   "outputs": [],
   "source": [
    "y_hat = np.matmul(X, b)\n",
    "residuals = y - y_hat"
   ]
  },
  {
   "cell_type": "code",
   "execution_count": 32,
   "id": "3088178f-d4b0-497b-a7c6-2b82d70f0901",
   "metadata": {},
   "outputs": [
    {
     "data": {
      "image/png": "[encoded data removed]",
      "text/plain": [
       "<Figure size 432x288 with 1 Axes>"
      ]
     },
     "metadata": {},
     "output_type": "display_data"
    },
    {
     "data": {
      "image/png": "[encoded data removed]",
      "text/plain": [
       "<Figure size 432x288 with 1 Axes>"
      ]
     },
     "metadata": {},
     "output_type": "display_data"
    },
    {
     "data": {
      "image/png": "[encoded data removed]",
      "text/plain": [
       "<Figure size 432x288 with 1 Axes>"
      ]
     },
     "metadata": {},
     "output_type": "display_data"
    },
    {
     "data": {
      "image/png": "[encoded data removed]",
      "text/plain": [
       "<Figure size 432x288 with 1 Axes>"
      ]
     },
     "metadata": {},
     "output_type": "display_data"
    },
    {
     "data": {
      "image/png": "[encoded data removed]",
      "text/plain": [
       "<Figure size 432x288 with 1 Axes>"
      ]
     },
     "metadata": {},
     "output_type": "display_data"
    }
   ],
   "source": [
    "for i in range(X.shape[1]):\n",
    "    plt.plot(X[:,i], residuals, marker='o', linestyle='none')\n",
    "    plt.show();"
   ]
  },
  {
   "cell_type": "markdown",
   "id": "24ed0128-e150-4566-a14e-aed1457d3078",
   "metadata": {},
   "source": [
    "# Comparing to StatsModels"
   ]
  },
  {
   "cell_type": "code",
   "execution_count": 23,
   "id": "059d01e4-32b2-49af-8f05-c205657072b3",
   "metadata": {},
   "outputs": [
    {
     "data": {
      "text/html": [
       "<table class=\"simpletable\">\n",
       "<caption>OLS Regression Results</caption>\n",
       "<tr>\n",
       "  <th>Dep. Variable:</th>            <td>y</td>        <th>  R-squared (uncentered):</th>      <td>   0.996</td> \n",
       "</tr>\n",
       "<tr>\n",
       "  <th>Model:</th>                   <td>OLS</td>       <th>  Adj. R-squared (uncentered):</th> <td>   0.996</td> \n",
       "</tr>\n",
       "<tr>\n",
       "  <th>Method:</th>             <td>Least Squares</td>  <th>  F-statistic:       </th>          <td>   7851.</td> \n",
       "</tr>\n",
       "<tr>\n",
       "  <th>Date:</th>             <td>Sat, 06 Aug 2022</td> <th>  Prob (F-statistic):</th>          <td>1.60e-174</td>\n",
       "</tr>\n",
       "<tr>\n",
       "  <th>Time:</th>                 <td>10:20:43</td>     <th>  Log-Likelihood:    </th>          <td> -58.762</td> \n",
       "</tr>\n",
       "<tr>\n",
       "  <th>No. Observations:</th>      <td>   150</td>      <th>  AIC:               </th>          <td>   127.5</td> \n",
       "</tr>\n",
       "<tr>\n",
       "  <th>Df Residuals:</th>          <td>   145</td>      <th>  BIC:               </th>          <td>   142.6</td> \n",
       "</tr>\n",
       "<tr>\n",
       "  <th>Df Model:</th>              <td>     5</td>      <th>                     </th>              <td> </td>    \n",
       "</tr>\n",
       "<tr>\n",
       "  <th>Covariance Type:</th>      <td>nonrobust</td>    <th>                     </th>              <td> </td>    \n",
       "</tr>\n",
       "</table>\n",
       "<table class=\"simpletable\">\n",
       "<tr>\n",
       "   <td></td>     <th>coef</th>     <th>std err</th>      <th>t</th>      <th>P>|t|</th>  <th>[0.025</th>    <th>0.975]</th>  \n",
       "</tr>\n",
       "<tr>\n",
       "  <th>x1</th> <td>    1.1222</td> <td>    0.035</td> <td>   31.640</td> <td> 0.000</td> <td>    1.052</td> <td>    1.192</td>\n",
       "</tr>\n",
       "<tr>\n",
       "  <th>x2</th> <td>    0.8842</td> <td>    0.081</td> <td>   10.931</td> <td> 0.000</td> <td>    0.724</td> <td>    1.044</td>\n",
       "</tr>\n",
       "<tr>\n",
       "  <th>x3</th> <td>   -0.7560</td> <td>    0.166</td> <td>   -4.546</td> <td> 0.000</td> <td>   -1.085</td> <td>   -0.427</td>\n",
       "</tr>\n",
       "<tr>\n",
       "  <th>x4</th> <td>    0.0632</td> <td>    0.258</td> <td>    0.245</td> <td> 0.807</td> <td>   -0.448</td> <td>    0.574</td>\n",
       "</tr>\n",
       "<tr>\n",
       "  <th>x5</th> <td>   -0.1269</td> <td>    0.372</td> <td>   -0.342</td> <td> 0.733</td> <td>   -0.861</td> <td>    0.607</td>\n",
       "</tr>\n",
       "</table>\n",
       "<table class=\"simpletable\">\n",
       "<tr>\n",
       "  <th>Omnibus:</th>       <td> 0.236</td> <th>  Durbin-Watson:     </th> <td>   2.050</td>\n",
       "</tr>\n",
       "<tr>\n",
       "  <th>Prob(Omnibus):</th> <td> 0.889</td> <th>  Jarque-Bera (JB):  </th> <td>   0.403</td>\n",
       "</tr>\n",
       "<tr>\n",
       "  <th>Skew:</th>          <td>-0.019</td> <th>  Prob(JB):          </th> <td>   0.818</td>\n",
       "</tr>\n",
       "<tr>\n",
       "  <th>Kurtosis:</th>      <td> 2.749</td> <th>  Cond. No.          </th> <td>    80.7</td>\n",
       "</tr>\n",
       "</table><br/><br/>Notes:<br/>[1] R² is computed without centering (uncentered) since the model does not contain a constant.<br/>[2] Standard Errors assume that the covariance matrix of the errors is correctly specified."
      ],
      "text/plain": [
       "<class 'statsmodels.iolib.summary.Summary'>\n",
       "\"\"\"\n",
       "                                 OLS Regression Results                                \n",
       "=======================================================================================\n",
       "Dep. Variable:                      y   R-squared (uncentered):                   0.996\n",
       "Model:                            OLS   Adj. R-squared (uncentered):              0.996\n",
       "Method:                 Least Squares   F-statistic:                              7851.\n",
       "Date:                Sat, 06 Aug 2022   Prob (F-statistic):                   1.60e-174\n",
       "Time:                        10:20:43   Log-Likelihood:                         -58.762\n",
       "No. Observations:                 150   AIC:                                      127.5\n",
       "Df Residuals:                     145   BIC:                                      142.6\n",
       "Df Model:                           5                                                  \n",
       "Covariance Type:            nonrobust                                                  \n",
       "==============================================================================\n",
       "                 coef    std err          t      P>|t|      [0.025      0.975]\n",
       "------------------------------------------------------------------------------\n",
       "x1             1.1222      0.035     31.640      0.000       1.052       1.192\n",
       "x2             0.8842      0.081     10.931      0.000       0.724       1.044\n",
       "x3            -0.7560      0.166     -4.546      0.000      -1.085      -0.427\n",
       "x4             0.0632      0.258      0.245      0.807      -0.448       0.574\n",
       "x5            -0.1269      0.372     -0.342      0.733      -0.861       0.607\n",
       "==============================================================================\n",
       "Omnibus:                        0.236   Durbin-Watson:                   2.050\n",
       "Prob(Omnibus):                  0.889   Jarque-Bera (JB):                0.403\n",
       "Skew:                          -0.019   Prob(JB):                        0.818\n",
       "Kurtosis:                       2.749   Cond. No.                         80.7\n",
       "==============================================================================\n",
       "\n",
       "Notes:\n",
       "[1] R² is computed without centering (uncentered) since the model does not contain a constant.\n",
       "[2] Standard Errors assume that the covariance matrix of the errors is correctly specified.\n",
       "\"\"\""
      ]
     },
     "execution_count": 23,
     "metadata": {},
     "output_type": "execute_result"
    }
   ],
   "source": [
    "model = sm.OLS(y, X)\n",
    "results = model.fit()\n",
    "results.summary()"
   ]
  },
  {
   "cell_type": "code",
   "execution_count": null,
   "id": "4254b17f-3d78-4b45-b19f-efa7355b125c",
   "metadata": {},
   "outputs": [],
   "source": []
  }
 ],
 "metadata": {
  "kernelspec": {
   "display_name": "Python 3",
   "language": "python",
   "name": "python3"
  },
  "language_info": {
   "codemirror_mode": {
    "name": "ipython",
    "version": 3
   },
   "file_extension": ".py",
   "mimetype": "text/x-python",
   "name": "python",
   "nbconvert_exporter": "python",
   "pygments_lexer": "ipython3",
   "version": "3.8.8"
  }
 },
 "nbformat": 4,
 "nbformat_minor": 5
}
